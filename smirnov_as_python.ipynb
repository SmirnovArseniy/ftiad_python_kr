{
 "cells": [
  {
   "cell_type": "markdown",
   "metadata": {},
   "source": [
    "1) 4 (input())\n",
    "\n",
    "2) 2\n",
    "\n",
    "3) 2 (False)\n",
    "\n",
    "4) 2\n",
    "\n",
    "5) 2\n",
    "\n",
    "6) 2 (False)\n",
    "\n",
    "7) Это атрибут класса, через который можно задать в явном виде, какие атрибуты мы хотим, чтобы были переданы экземпляру класса\n",
    "\n",
    "8) Error\n",
    "   2"
   ]
  },
  {
   "cell_type": "code",
   "execution_count": 1,
   "metadata": {},
   "outputs": [],
   "source": [
    "#9\n",
    "def chislo(a):\n",
    "    return a // 100 == 0 and a % 3 == 0"
   ]
  },
  {
   "cell_type": "code",
   "execution_count": 10,
   "metadata": {},
   "outputs": [],
   "source": [
    "#10\n",
    "def nuli(a):\n",
    "    b = str(bin(a))\n",
    "    return b.count('0') - 1"
   ]
  },
  {
   "cell_type": "markdown",
   "metadata": {},
   "source": [
    "11) В первом случае первый список останется без изменений, а второй дополнится элементом \"789\" в конце\n",
    "    Во втором случае и первый, и второй список дополнятся элементом \"789\" в конце\n",
    "    \n",
    "12) 4\n",
    "\n",
    "13) 4\n",
    "\n",
    "14) 3\n",
    "\n",
    "15) 1\n",
    "\n",
    "16) 4\n",
    "\n",
    "17) 1\n",
    "\n",
    "18) 1\n",
    "\n",
    "19) Это декоратор, который позволяет автоматически генерировать специальные методы в классе."
   ]
  },
  {
   "cell_type": "code",
   "execution_count": 17,
   "metadata": {},
   "outputs": [],
   "source": [
    "#20\n",
    "def spiski(a: list, b: list) -> list:\n",
    "    return list(zip(a, b))"
   ]
  },
  {
   "cell_type": "markdown",
   "metadata": {},
   "source": [
    "21) 2 (double), 3 (array), 6 (matrix)\n",
    "\n",
    "22) Данная конструкция позволяет определить (проверить) какие действия необходимо выполнять при запуске и иимпорте файла"
   ]
  },
  {
   "cell_type": "code",
   "execution_count": null,
   "metadata": {},
   "outputs": [],
   "source": [
    "#23"
   ]
  },
  {
   "cell_type": "code",
   "execution_count": null,
   "metadata": {},
   "outputs": [],
   "source": [
    "#24\n",
    "\n",
    "class RealString:\n",
    "    \n",
    "    def __init__(self, str1):\n",
    "        self.str1 = str1\n",
    "    \n",
    "    def __len__(self):\n",
    "        return len(self.str1)"
   ]
  },
  {
   "cell_type": "code",
   "execution_count": 23,
   "metadata": {},
   "outputs": [
    {
     "name": "stdout",
     "output_type": "stream",
     "text": [
      "мама папа деда баба\n",
      "баба деда мама папа\n"
     ]
    }
   ],
   "source": [
    "#25\n",
    "a = list(input().split())\n",
    "a.sort()\n",
    "print(*a)"
   ]
  },
  {
   "cell_type": "code",
   "execution_count": 28,
   "metadata": {},
   "outputs": [
    {
     "name": "stdout",
     "output_type": "stream",
     "text": [
      "a b c\n",
      "a c b\n",
      "b a c\n",
      "b c a\n",
      "c a b\n",
      "c b a\n"
     ]
    }
   ],
   "source": [
    "#26\n",
    "from itertools import permutations\n",
    "\n",
    "a = ['a', 'b', 'c']\n",
    "\n",
    "for i in permutations(a):\n",
    "    print(*i)"
   ]
  },
  {
   "cell_type": "code",
   "execution_count": 29,
   "metadata": {},
   "outputs": [],
   "source": [
    "#27\n",
    "def skobki(a: str):\n",
    "    b = 0\n",
    "    for i in a:\n",
    "        if i == ')':\n",
    "            b -= 1\n",
    "        else:\n",
    "            b += 1\n",
    "        if b < 0:\n",
    "            return False\n",
    "    return b == 0"
   ]
  },
  {
   "cell_type": "code",
   "execution_count": 34,
   "metadata": {},
   "outputs": [],
   "source": [
    "#28\n",
    "def schastlivchik(a: tuple):\n",
    "    return a[0] + a[1] + a[2] == a[-1] + a[-2] + a[-3]"
   ]
  },
  {
   "cell_type": "code",
   "execution_count": 33,
   "metadata": {},
   "outputs": [],
   "source": [
    "#29\n",
    "from time import perf_counter\n",
    "from contextlib import contextmanager\n",
    "\n",
    "\n",
    "@contextmanager\n",
    "def manager_vremeni() -> float:\n",
    "    start = perf_counter()\n",
    "    yield lambda: perf_counter() - start\n",
    "    print(f'Time: {perf_counter() - start:.3f} seconds')"
   ]
  },
  {
   "cell_type": "markdown",
   "metadata": {},
   "source": [
    "30) В bash-скрипте по умолчанию, если команда завершается с ошибкой, скрипт завершается"
   ]
  },
  {
   "cell_type": "markdown",
   "metadata": {},
   "source": [
    "31) for a in /var/log/*.log; mv -- \"/var/log/$a\" \"{/var/tmp/a%.log}.bcp\""
   ]
  },
  {
   "cell_type": "code",
   "execution_count": 37,
   "metadata": {},
   "outputs": [],
   "source": [
    "#32\n",
    "def obnuleniye(a: list):\n",
    "    for i in range(len(a)):\n",
    "        a[i][i] = 0\n",
    "    return a"
   ]
  }
 ],
 "metadata": {
  "kernelspec": {
   "display_name": "Python 3",
   "language": "python",
   "name": "python3"
  },
  "language_info": {
   "codemirror_mode": {
    "name": "ipython",
    "version": 3
   },
   "file_extension": ".py",
   "mimetype": "text/x-python",
   "name": "python",
   "nbconvert_exporter": "python",
   "pygments_lexer": "ipython3",
   "version": "3.8.5"
  }
 },
 "nbformat": 4,
 "nbformat_minor": 4
}
